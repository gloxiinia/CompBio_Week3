{
 "cells": [
  {
   "cell_type": "markdown",
   "metadata": {},
   "source": [
    "Function for validating a dna sequence"
   ]
  },
  {
   "cell_type": "code",
   "execution_count": 23,
   "metadata": {},
   "outputs": [],
   "source": [
    "def validate_dna(dna_seq):\n",
    "    seqm = dna_seq.upper()\n",
    "    valid = seqm.count(\"A\") + seqm.count(\"C\") + seqm.count(\"G\") + seqm.count(\"T\")\n",
    "\n",
    "    if valid == len(seqm): \n",
    "        return True\n",
    "    else:\n",
    "        return False\n",
    "    "
   ]
  },
  {
   "cell_type": "code",
   "execution_count": 24,
   "metadata": {},
   "outputs": [
    {
     "data": {
      "text/plain": [
       "True"
      ]
     },
     "execution_count": 24,
     "metadata": {},
     "output_type": "execute_result"
    }
   ],
   "source": [
    "validate_dna(\"TGCGGACCATGTCGTCCTCATAGTTTGGGCATGTTTCCGTTGTAGGAGTGAAGCCACTTAGCTTTGCGCCGTAGTCCCAATGAAAAACCTATGGACTTTGTTTTGGGTAGCATCAGGAATCTGAACCCTGTGAATGTGGGGGTCGCGCGCATAGACCTTTATCTCCGGTTCAAGTTAGGCATGAGGCTGCATGCTACGTTGTCACACCTACACTGCTCGAAGTAAATATGGGAAGCGCGCGGCCTGGCCCGAGGCGTTCCGCGCCGCCACGTGTTCGTTAACTGTTGATTGGTGGCACATAAGCAATACCGTAGTCCCTCAAATTCAGCTCTGTTATCTCGAGCGTTATGTGTCAAATGGCGTAGAACGGGATTGACTGTTTGACACTAGCTGGTGTTCGGTTCGGTAACGGAGAATCTGTGGGGCTATGTCACTAATACTTTCGAAACGCCCCGTACCGATGCTGAACAAGTCGATGCAGGCTCCCGTCTTTGAATAGGGGTAAACATACAAGTCGATAGAAGATGGGTAGGGGCCTCCAATTCATCCAACACTCTACGCCTTCTCCAAGAGCTAGTAGGGCACCCTGCAGTTGGAAAGGGAACTATTTCGTAGGGCGAGCCCATACCGTCTCTCTTGCGGAAGACTTAACACGATAGGAAGCTGGAATAGTTTCGAACGATGGTTATTAATCCTAATAACGGAACGCTGTCTGGAGGATGAGTGTGACGGAGTGTAACTCGATGAGTTACCCGCTAATCGAACTGGGCGAGAGATCCCAGCGCTGATGCACTCGATCCCGAGGCCTGACCCGACATATCAGCTCAGACTAGAGCGGGGCTGTTGACGTTTGGGGTTGAAAAAATCTATTGTACCAATCGGCTTCAACGTGCTCCACGGCTGGCGCCTGAGGAGGGGCCCACACCGAGGAAGTAGACTGTTGCACGTTGGCGATGGCGGTAGCTAACTAAGTCGCCTGCCACAACAACAGTATCAAAGC\")"
   ]
  },
  {
   "cell_type": "markdown",
   "metadata": {},
   "source": [
    "Function for calculating:\n",
    "* the frequency of a base in a dna sequence\n",
    "* percentages for each base\n",
    "* sequence length"
   ]
  },
  {
   "cell_type": "code",
   "execution_count": 25,
   "metadata": {},
   "outputs": [],
   "source": [
    "def base_frequency(dna_seq):\n",
    "    dic = {}\n",
    "    for base in dna_seq.upper():\n",
    "        #check if the symbol is valid\n",
    "        if base == \"A\" or base == \"C\" or base == \"G\" or base == \"T\":\n",
    "            if base in dic: \n",
    "                dic[base] += 1\n",
    "            else:\n",
    "                dic[base] = 1\n",
    "        else:\n",
    "            return \"invalid dna sequence :(\"\n",
    "    \n",
    "    #print sequence length\n",
    "    seq_len = sum(dic.values())\n",
    "    print(\"DNA length: \", seq_len)\n",
    "\n",
    "    #get percentages for all bases\n",
    "    for k, v in dic.items():\n",
    "        percent = round(v * 100.0/seq_len, 3)\n",
    "        print(f\"{k} : {percent}%\")\n",
    "        \n",
    "    return dic\n"
   ]
  },
  {
   "cell_type": "code",
   "execution_count": 26,
   "metadata": {},
   "outputs": [
    {
     "name": "stdout",
     "output_type": "stream",
     "text": [
      "DNA length:  1000\n",
      "T : 24.2%\n",
      "G : 27.8%\n",
      "C : 23.9%\n",
      "A : 24.1%\n"
     ]
    },
    {
     "data": {
      "text/plain": [
       "{'T': 242, 'G': 278, 'C': 239, 'A': 241}"
      ]
     },
     "execution_count": 26,
     "metadata": {},
     "output_type": "execute_result"
    }
   ],
   "source": [
    "base_frequency(\"TGCGGACCATGTCGTCCTCATAGTTTGGGCATGTTTCCGTTGTAGGAGTGAAGCCACTTAGCTTTGCGCCGTAGTCCCAATGAAAAACCTATGGACTTTGTTTTGGGTAGCATCAGGAATCTGAACCCTGTGAATGTGGGGGTCGCGCGCATAGACCTTTATCTCCGGTTCAAGTTAGGCATGAGGCTGCATGCTACGTTGTCACACCTACACTGCTCGAAGTAAATATGGGAAGCGCGCGGCCTGGCCCGAGGCGTTCCGCGCCGCCACGTGTTCGTTAACTGTTGATTGGTGGCACATAAGCAATACCGTAGTCCCTCAAATTCAGCTCTGTTATCTCGAGCGTTATGTGTCAAATGGCGTAGAACGGGATTGACTGTTTGACACTAGCTGGTGTTCGGTTCGGTAACGGAGAATCTGTGGGGCTATGTCACTAATACTTTCGAAACGCCCCGTACCGATGCTGAACAAGTCGATGCAGGCTCCCGTCTTTGAATAGGGGTAAACATACAAGTCGATAGAAGATGGGTAGGGGCCTCCAATTCATCCAACACTCTACGCCTTCTCCAAGAGCTAGTAGGGCACCCTGCAGTTGGAAAGGGAACTATTTCGTAGGGCGAGCCCATACCGTCTCTCTTGCGGAAGACTTAACACGATAGGAAGCTGGAATAGTTTCGAACGATGGTTATTAATCCTAATAACGGAACGCTGTCTGGAGGATGAGTGTGACGGAGTGTAACTCGATGAGTTACCCGCTAATCGAACTGGGCGAGAGATCCCAGCGCTGATGCACTCGATCCCGAGGCCTGACCCGACATATCAGCTCAGACTAGAGCGGGGCTGTTGACGTTTGGGGTTGAAAAAATCTATTGTACCAATCGGCTTCAACGTGCTCCACGGCTGGCGCCTGAGGAGGGGCCCACACCGAGGAAGTAGACTGTTGCACGTTGGCGATGGCGGTAGCTAACTAAGTCGCCTGCCACAACAACAGTATCAAAGC\")"
   ]
  },
  {
   "cell_type": "code",
   "execution_count": 27,
   "metadata": {},
   "outputs": [
    {
     "data": {
      "text/plain": [
       "'invalid dna sequence :('"
      ]
     },
     "execution_count": 27,
     "metadata": {},
     "output_type": "execute_result"
    }
   ],
   "source": [
    "base_frequency(\"aaaaaaaaammmmmmmbbbbbssstttiiieaaaa\")"
   ]
  },
  {
   "cell_type": "code",
   "execution_count": 28,
   "metadata": {},
   "outputs": [],
   "source": [
    "def dna_complement(dna_seq):\n",
    "    template_strand = list(dna_seq)\n",
    "    rna_strand = \"\"\n",
    "\n",
    "    if len(template_strand)%3 == 0:\n",
    "        if validate_dna(dna_seq):\n",
    "            #rna polymerase moves along the template strand and \"reads\" each base\n",
    "            for i in template_strand:\n",
    "                if i == \"G\":\n",
    "                    rna_strand += \"C\"\n",
    "                elif i == \"C\":\n",
    "                    rna_strand += \"G\"\n",
    "                elif i == \"A\":\n",
    "                    rna_strand += \"T\"\n",
    "                elif i == \"T\":\n",
    "                    rna_strand += \"A\"\n",
    "        else:\n",
    "            rna_strand = \"invalid input\"\n",
    "    else:\n",
    "        rna_strand = \"not enough nucleotides\"\n",
    "\n",
    "    \n",
    "    return rna_strand"
   ]
  },
  {
   "cell_type": "code",
   "execution_count": 29,
   "metadata": {},
   "outputs": [
    {
     "data": {
      "text/plain": [
       "'not enough nucleotides'"
      ]
     },
     "execution_count": 29,
     "metadata": {},
     "output_type": "execute_result"
    }
   ],
   "source": [
    "dna_complement(\"TGCGGACCATGTCGTCCTCATAGTTTGGGCATGTTTCCGTTGTAGGAGTGAAGCCACTTAGCTTTGCGCCGTAGTCCCAATGAAAAACCTATGGACTTTGTTTTGGGTAGCATCAGGAATCTGAACCCTGTGAATGTGGGGGTCGCGCGCATAGACCTTTATCTCCGGTTCAAGTTAGGCATGAGGCTGCATGCTACGTTGTCACACCTACACTGCTCGAAGTAAATATGGGAAGCGCGCGGCCTGGCCCGAGGCGTTCCGCGCCGCCACGTGTTCGTTAACTGTTGATTGGTGGCACATAAGCAATACCGTAGTCCCTCAAATTCAGCTCTGTTATCTCGAGCGTTATGTGTCAAATGGCGTAGAACGGGATTGACTGTTTGACACTAGCTGGTGTTCGGTTCGGTAACGGAGAATCTGTGGGGCTATGTCACTAATACTTTCGAAACGCCCCGTACCGATGCTGAACAAGTCGATGCAGGCTCCCGTCTTTGAATAGGGGTAAACATACAAGTCGATAGAAGATGGGTAGGGGCCTCCAATTCATCCAACACTCTACGCCTTCTCCAAGAGCTAGTAGGGCACCCTGCAGTTGGAAAGGGAACTATTTCGTAGGGCGAGCCCATACCGTCTCTCTTGCGGAAGACTTAACACGATAGGAAGCTGGAATAGTTTCGAACGATGGTTATTAATCCTAATAACGGAACGCTGTCTGGAGGATGAGTGTGACGGAGTGTAACTCGATGAGTTACCCGCTAATCGAACTGGGCGAGAGATCCCAGCGCTGATGCACTCGATCCCGAGGCCTGACCCGACATATCAGCTCAGACTAGAGCGGGGCTGTTGACGTTTGGGGTTGAAAAAATCTATTGTACCAATCGGCTTCAACGTGCTCCACGGCTGGCGCCTGAGGAGGGGCCCACACCGAGGAAGTAGACTGTTGCACGTTGGCGATGGCGGTAGCTAACTAAGTCGCCTGCCACAACAACAGTATCAAAGC\")"
   ]
  },
  {
   "cell_type": "code",
   "execution_count": 30,
   "metadata": {},
   "outputs": [],
   "source": [
    "def transcription(dna_seq):\n",
    "    template_strand = list(dna_seq)\n",
    "    \n",
    "    rna_strand = \"\"\n",
    "    if len(template_strand)%3 == 0:\n",
    "        if validate_dna(dna_seq):\n",
    "            #rna polymerase moves along the template strand and \"reads\" each base\n",
    "            for i in template_strand:\n",
    "                if i == \"G\":\n",
    "                    rna_strand += \"C\"\n",
    "                elif i == \"C\":\n",
    "                    rna_strand += \"G\"\n",
    "                elif i == \"A\":\n",
    "                    rna_strand += \"U\"\n",
    "                elif i == \"T\":\n",
    "                    rna_strand += \"A\"\n",
    "        else:\n",
    "            rna_strand = \"invalid input\"\n",
    "    else:\n",
    "        rna_strand = \"not enough nucleotides\"\n",
    "    \n",
    "\n",
    "\n",
    "    #rna polymerase is finished reading the template strand\n",
    "    #rna strand is ready finished and ready to leave nucleus\n",
    "    return rna_strand\n",
    "    "
   ]
  },
  {
   "cell_type": "code",
   "execution_count": 31,
   "metadata": {},
   "outputs": [
    {
     "data": {
      "text/plain": [
       "'UUUAAA'"
      ]
     },
     "execution_count": 31,
     "metadata": {},
     "output_type": "execute_result"
    }
   ],
   "source": [
    "transcription(\"AAATTT\")"
   ]
  },
  {
   "cell_type": "code",
   "execution_count": 32,
   "metadata": {},
   "outputs": [
    {
     "data": {
      "text/plain": [
       "'not enough nucleotides'"
      ]
     },
     "execution_count": 32,
     "metadata": {},
     "output_type": "execute_result"
    }
   ],
   "source": [
    "transcription(\"AAATT\")"
   ]
  },
  {
   "cell_type": "code",
   "execution_count": 33,
   "metadata": {},
   "outputs": [
    {
     "data": {
      "text/plain": [
       "'invalid input'"
      ]
     },
     "execution_count": 33,
     "metadata": {},
     "output_type": "execute_result"
    }
   ],
   "source": [
    "transcription(\"AAATTo\")"
   ]
  },
  {
   "cell_type": "markdown",
   "metadata": {},
   "source": [
    "Function for translating a codon into an amino acid"
   ]
  },
  {
   "cell_type": "code",
   "execution_count": 34,
   "metadata": {},
   "outputs": [],
   "source": [
    "def translate_codon(cod):\n",
    "    tc = {\n",
    "        \"UUU\" : \"Phe (F)\", \"UUC\" : \"Phe (F)\", \"UUA\" : \"Leu (L)\", \"UUG\" : \"Leu (L)\",\n",
    "        \"UCU\" : \"Ser (S)\", \"UCC\" : \"Ser (S)\", \"UCA\" : \"Ser (S)\", \"UCG\" : \"Ser (S)\",\n",
    "        \"UAU\" : \"Tyr (Y)\", \"UAC\" : \"Tyr (Y)\", \"UAA\" : \"_\", \"UAG\" : \"_\", \n",
    "        \"UGU\" : \"Cys (C)\", \"UGC\" : \"Cys (C)\", \"UGA\" : \"_\", \"UGG\" : \"Trp (W)\", \n",
    "\n",
    "        \"CUU\" : \"Leu (L)\", \"CUC\" : \"Leu (L)\", \"CUA\" : \"Leu (L)\", \"CUG\" : \"Leu (L)\", \n",
    "        \"CCU\" : \"Pro (P)\", \"CCC\" : \"Pro (P)\", \"CCA\" : \"Pro (P)\", \"CCG\" : \"Pro (P)\", \n",
    "        \"CAU\" : \"His (H)\", \"CAC\" : \"His (H)\", \"CAA\" : \"Gln (Q)\", \"CAG\" : \"Gln (Q)\",\n",
    "        \"CGU\" : \"Arg (R)\", \"CGC\" : \"Arg (R)\", \"CGA\" : \"Arg (R)\", \"CGG\" : \"Arg (R)\", \n",
    "\n",
    "        \"AUU\" : \"Ile (I)\", \"AUC\" : \"Ile (I)\", \"AUA\" : \"Ile (I)\", \"AUG\" : \"Met (M)\", \n",
    "        \"ACU\" : \"Thr (T)\", \"ACC\" : \"Thr (T)\", \"ACA\" : \"Thr (T)\", \"ACG\" : \"Thr (T)\",\n",
    "        \"AAU\" : \"Asn (N)\", \"AAC\" : \"Asn (N)\", \"AAA\" : \"Lys (K)\", \"AAG\" : \"Lys (K)\",\n",
    "        \"AGU\" : \"Ser (S)\", \"AGC\" : \"Ser (S)\", \"AGA\" : \"Arg (R)\", \"AGG\" : \"Arg (R)\", \n",
    "\n",
    "        \"GUU\" : \"Val (V)\", \"GUC\" : \"Val (V)\", \"GUA\" : \"Val (V)\", \"GUG\" : \"Val (V)\", \n",
    "        \"GCU\" : \"Ala (A)\", \"GCC\" : \"Ala (A)\", \"GCA\" : \"Ala (A)\", \"GCG\" : \"Ala (A)\", \n",
    "        \"GAU\" : \"Asp (D)\", \"GAC\" : \"Asp (D)\", \"GAA\" : \"Glu (E)\", \"GAG\" : \"Glu (E)\", \n",
    "        \"GGU\" : \"Gly (G)\", \"GGC\" : \"Gly (G)\", \"GGA\" : \"Gly (G)\", \"GGG\" : \"Gly (G)\", \n",
    "\n",
    "    }\n",
    "\n",
    "    if cod in tc:\n",
    "        return (tc[cod])\n",
    "    \n",
    "    else:\n",
    "        None"
   ]
  },
  {
   "cell_type": "code",
   "execution_count": 35,
   "metadata": {},
   "outputs": [
    {
     "name": "stdout",
     "output_type": "stream",
     "text": [
      "Asn (N)\n"
     ]
    }
   ],
   "source": [
    "print(translate_codon(\"AAU\"))"
   ]
  },
  {
   "cell_type": "code",
   "execution_count": 36,
   "metadata": {},
   "outputs": [],
   "source": [
    "def translate_amino(amino_seq):\n",
    "    tc = {\n",
    "        \"UUU\" : \"F\", \"UUC\" : \"F\", \"UUA\" : \"L\", \"UUG\" : \"L\",\n",
    "        \"UCU\" : \"S\", \"UCC\" : \"S\", \"UCA\" : \"S\", \"UCG\" : \"S\",\n",
    "        \"UAU\" : \"Y\", \"UAC\" : \"Y\", \"UAA\" : \"_\", \"UAG\" : \"_\", \n",
    "        \"UGU\" : \"C\", \"UGC\" : \"C\", \"UGA\" : \"_\", \"UGG\" : \"W\", \n",
    "\n",
    "        \"CUU\" : \"L\", \"CUC\" : \"L\", \"CUA\" : \"L\", \"CUG\" : \"L\", \n",
    "        \"CCU\" : \"P\", \"CCC\" : \"P\", \"CCA\" : \"P\", \"CCG\" : \"P\", \n",
    "        \"CAU\" : \"H\", \"CAC\" : \"H\", \"CAA\" : \"Q\", \"CAG\" : \"Q\",\n",
    "        \"CGU\" : \"R\", \"CGC\" : \"R\", \"CGA\" : \"R\", \"CGG\" : \"R\", \n",
    "\n",
    "        \"AUU\" : \"I\", \"AUC\" : \"I\", \"AUA\" : \"I\", \"AUG\" : \"M\", \n",
    "        \"ACU\" : \"T\", \"ACC\" : \"T\", \"ACA\" : \"T\", \"ACG\" : \"T\",\n",
    "        \"AAU\" : \"N\", \"AAC\" : \"N\", \"AAA\" : \"K\", \"AAG\" : \"K\",\n",
    "        \"AGU\" : \"S\", \"AGC\" : \"S\", \"AGA\" : \"R\", \"AGG\" : \"R\", \n",
    "\n",
    "        \"GUU\" : \"V\", \"GUC\" : \"V\", \"GUA\" : \"V\", \"GUG\" : \"V\", \n",
    "        \"GCU\" : \"A\", \"GCC\" : \"A\", \"GCA\" : \"A\", \"GCG\" : \"A\", \n",
    "        \"GAU\" : \"D\", \"GAC\" : \"D\", \"GAA\" : \"E\", \"GAG\" : \"E\", \n",
    "        \"GGU\" : \"G\", \"GGC\" : \"G\", \"GGA\" : \"G\", \"GGG\" : \"G\", \n",
    "\n",
    "    }\n",
    "\n",
    "    amino_keys = list(tc.keys())\n",
    "    amino_values = list(tc.values())\n",
    "    mrna = []\n",
    "\n",
    "    for amino in amino_seq:\n",
    "        if amino in amino_values:\n",
    "            index = amino_values.index(amino)\n",
    "            mrna.append(amino_keys[index])\n",
    "\n",
    "        else:\n",
    "            return \"invalid aminoacid :c\"\n",
    "            \n",
    "    result = \"\".join(mrna)\n",
    "\n",
    "    print(\"mRNA = \", result)\n",
    "\n",
    "    return result\n",
    "\n",
    "\n",
    "\n",
    "\n",
    "\n"
   ]
  },
  {
   "cell_type": "code",
   "execution_count": 37,
   "metadata": {},
   "outputs": [
    {
     "name": "stdout",
     "output_type": "stream",
     "text": [
      "mRNA =  AAUGCUAAU\n"
     ]
    },
    {
     "data": {
      "text/plain": [
       "'AAUGCUAAU'"
      ]
     },
     "execution_count": 37,
     "metadata": {},
     "output_type": "execute_result"
    }
   ],
   "source": [
    "translate_amino(\"NAN\")"
   ]
  },
  {
   "cell_type": "code",
   "execution_count": 38,
   "metadata": {},
   "outputs": [
    {
     "name": "stdout",
     "output_type": "stream",
     "text": [
      "L\n"
     ]
    }
   ],
   "source": [
    "s = \"Phe - (L)\"\n",
    "s = s[-2:-1]\n",
    "print(s)"
   ]
  },
  {
   "cell_type": "markdown",
   "metadata": {},
   "source": [
    "Function to check the frequency of codon in an mrna sequence"
   ]
  },
  {
   "cell_type": "code",
   "execution_count": 39,
   "metadata": {},
   "outputs": [],
   "source": [
    "def codon_frequency(amino_seq):\n",
    "    tc = {\n",
    "        \"UUU\" : \"Phe (F)\", \"UUC\" : \"Phe (F)\", \"UUA\" : \"Leu (L)\", \"UUG\" : \"Leu (L)\",\n",
    "        \"UCU\" : \"Ser (S)\", \"UCC\" : \"Ser (S)\", \"UCA\" : \"Ser (S)\", \"UCG\" : \"Ser (S)\",\n",
    "        \"UAU\" : \"Tyr (Y)\", \"UAC\" : \"Tyr (Y)\", \"UAA\" : \"_\", \"UAG\" : \"_\", \n",
    "        \"UGU\" : \"Cys (C)\", \"UGC\" : \"Cys (C)\", \"UGA\" : \"_\", \"UGG\" : \"Trp (W)\", \n",
    "\n",
    "        \"CUU\" : \"Leu (L)\", \"CUC\" : \"Leu (L)\", \"CUA\" : \"Leu (L)\", \"CUG\" : \"Leu (L)\", \n",
    "        \"CCU\" : \"Pro (P)\", \"CCC\" : \"Pro (P)\", \"CCA\" : \"Pro (P)\", \"CCG\" : \"Pro (P)\", \n",
    "        \"CAU\" : \"His (H)\", \"CAC\" : \"His (H)\", \"CAA\" : \"Gln (Q)\", \"CAG\" : \"Gln (Q)\",\n",
    "        \"CGU\" : \"Arg (R)\", \"CGC\" : \"Arg (R)\", \"CGA\" : \"Arg (R)\", \"CGG\" : \"Arg (R)\", \n",
    "\n",
    "        \"AUU\" : \"Ile (I)\", \"AUC\" : \"Ile (I)\", \"AUA\" : \"Ile (I)\", \"AUG\" : \"Met (M)\", \n",
    "        \"ACU\" : \"Thr (T)\", \"ACC\" : \"Thr (T)\", \"ACA\" : \"Thr (T)\", \"ACG\" : \"Thr (T)\",\n",
    "        \"AAU\" : \"Asn (N)\", \"AAC\" : \"Asn (N)\", \"AAA\" : \"Lys (K)\", \"AAG\" : \"Lys (K)\",\n",
    "        \"AGU\" : \"Ser (S)\", \"AGC\" : \"Ser (S)\", \"AGA\" : \"Arg (R)\", \"AGG\" : \"Arg (R)\", \n",
    "\n",
    "        \"GUU\" : \"Val (V)\", \"GUC\" : \"Val (V)\", \"GUA\" : \"Val (V)\", \"GUG\" : \"Val (V)\", \n",
    "        \"GCU\" : \"Ala (A)\", \"GCC\" : \"Ala (A)\", \"GCA\" : \"Ala (A)\", \"GCG\" : \"Ala (A)\", \n",
    "        \"GAU\" : \"Asp (D)\", \"GAC\" : \"Asp (D)\", \"GAA\" : \"Glu (E)\", \"GAG\" : \"Glu (E)\", \n",
    "        \"GGU\" : \"Gly (G)\", \"GGC\" : \"Gly (G)\", \"GGA\" : \"Gly (G)\", \"GGG\" : \"Gly (G)\", \n",
    "\n",
    "    }\n",
    "\n",
    "    dic = {}\n",
    "    mrna = []\n",
    "    \n",
    "    n = 3\n",
    "    mrna = [(amino_seq[i:i + n].upper()) for i in range(0, len(amino_seq), n) ] \n",
    "\n",
    "    for codon in mrna:\n",
    "        #check if the symbol is valid\n",
    "        if codon in tc:\n",
    "            if codon in dic: \n",
    "                dic[codon] += 1\n",
    "            else:\n",
    "                dic[codon] = 1\n",
    "        else:\n",
    "            return \"invalid dna sequence :(\"\n",
    "    \n",
    "    seq_len = sum(dic.values())\n",
    "    \n",
    "    #get percentages for all codons\n",
    "    # print(\"Codon Frequency\")\n",
    "    # for k, v in dic.items():\n",
    "    #     percent = round(v * 100.0/seq_len, 3)\n",
    "    #     print(f\"{k} : {percent}%\")\n",
    "        \n",
    "    return dic"
   ]
  },
  {
   "cell_type": "code",
   "execution_count": 40,
   "metadata": {},
   "outputs": [
    {
     "name": "stdout",
     "output_type": "stream",
     "text": [
      "{'AAA': 2}\n"
     ]
    }
   ],
   "source": [
    "print(codon_frequency(\"AAAAAA\"))"
   ]
  },
  {
   "cell_type": "code",
   "execution_count": 41,
   "metadata": {},
   "outputs": [
    {
     "name": "stdout",
     "output_type": "stream",
     "text": [
      "{'AAU': 2, 'GCU': 1}\n"
     ]
    }
   ],
   "source": [
    "print(codon_frequency(\"AAUGCUAAU\"))"
   ]
  },
  {
   "cell_type": "markdown",
   "metadata": {},
   "source": [
    "Function for getting an mrna sequence and translating it to amino acids"
   ]
  },
  {
   "cell_type": "code",
   "execution_count": 42,
   "metadata": {},
   "outputs": [],
   "source": [
    "def translate_mrna(mrna):\n",
    "\n",
    "    result = \"\"\n",
    "    print(mrna)\n",
    "    if mrna == \"invalid input\" or mrna == \"not enough nucleotides\":\n",
    "        result = mrna\n",
    "    \n",
    "    else:\n",
    "        \n",
    "        n = 3\n",
    "        mrna = [(mrna[i:i + n]) for i in range(0, len(mrna), n) ] \n",
    "        codon_translated = []\n",
    "        \n",
    "        for codon in mrna:\n",
    "            x = translate_codon(codon)\n",
    "            codon_translated.append(x)\n",
    "        result = \" - \".join(codon_translated)\n",
    "\n",
    "    return result\n",
    "   \n",
    "        \n",
    "    "
   ]
  },
  {
   "cell_type": "code",
   "execution_count": 43,
   "metadata": {},
   "outputs": [
    {
     "name": "stdout",
     "output_type": "stream",
     "text": [
      "AAAUUUGGU\n",
      "Lys (K) - Phe (F) - Gly (G)\n"
     ]
    }
   ],
   "source": [
    "print(translate_mrna(\"AAAUUUGGU\"))\n"
   ]
  },
  {
   "cell_type": "markdown",
   "metadata": {},
   "source": [
    "Exercise 1"
   ]
  },
  {
   "cell_type": "code",
   "execution_count": 44,
   "metadata": {},
   "outputs": [
    {
     "name": "stdout",
     "output_type": "stream",
     "text": [
      "UUUAAA\n",
      "Complement =  TTTAAA\n",
      "mRNA =  UUUAAA\n",
      "Aminoacid =  Phe (F) - Lys (K)\n"
     ]
    }
   ],
   "source": [
    "#asking user input\n",
    "sequence = input(\"Input DNA = \").upper()\n",
    "sequence_transcripted = transcription(sequence)\n",
    "sequence_complement= dna_complement(sequence)\n",
    "sequence_amino = translate_mrna(sequence_transcripted)\n",
    "\n",
    "\n",
    "print(\"Complement = \", sequence_complement)\n",
    "print(\"mRNA = \", sequence_transcripted)\n",
    "print(\"Aminoacid = \", sequence_amino)\n",
    "\n"
   ]
  },
  {
   "cell_type": "markdown",
   "metadata": {},
   "source": [
    "Exercise 2"
   ]
  },
  {
   "cell_type": "code",
   "execution_count": 46,
   "metadata": {},
   "outputs": [
    {
     "name": "stdout",
     "output_type": "stream",
     "text": [
      "mRNA =  GGUGGUGGU\n",
      "GGU  =  3\n"
     ]
    }
   ],
   "source": [
    "#asking user input\n",
    "sequence = input(\"Input Aminoacid = \").upper()\n",
    "sequence_transcripted = translate_amino(sequence)\n",
    "sequence_frequency = codon_frequency(sequence_transcripted)\n",
    "\n",
    "for i in sequence_frequency:\n",
    "    print(i, \" = \", sequence_frequency[i])\n",
    "\n"
   ]
  }
 ],
 "metadata": {
  "kernelspec": {
   "display_name": "Python 3",
   "language": "python",
   "name": "python3"
  },
  "language_info": {
   "codemirror_mode": {
    "name": "ipython",
    "version": 3
   },
   "file_extension": ".py",
   "mimetype": "text/x-python",
   "name": "python",
   "nbconvert_exporter": "python",
   "pygments_lexer": "ipython3",
   "version": "3.10.11"
  },
  "orig_nbformat": 4
 },
 "nbformat": 4,
 "nbformat_minor": 2
}
